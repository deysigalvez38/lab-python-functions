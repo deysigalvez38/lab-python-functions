{
 "cells": [
  {
   "cell_type": "markdown",
   "id": "25d7736c-ba17-4aff-b6bb-66eba20fbf4e",
   "metadata": {},
   "source": [
    "# Lab | Functions"
   ]
  },
  {
   "cell_type": "markdown",
   "id": "0c581062-8967-4d93-b06e-62833222f930",
   "metadata": {
    "tags": []
   },
   "source": [
    "## Exercise: Managing Customer Orders with Functions\n",
    "\n",
    "In the previous exercise, you improved the code for managing customer orders by using loops and flow control. Now, let's take it a step further and refactor the code by introducing functions.\n",
    "\n",
    "Follow the steps below to complete the exercise:\n",
    "\n",
    "1. Define a function named `initialize_inventory` that takes `products` as a parameter. Inside the function, implement the code for initializing the inventory dictionary using a loop and user input.\n",
    "\n",
    "2. Define a function named `get_customer_orders` that takes no parameters. Inside the function, implement the code for prompting the user to enter the product names using a loop. The function should return the `customer_orders` set.\n",
    "\n",
    "3. Define a function named `update_inventory` that takes `customer_orders` and `inventory` as parameters. Inside the function, implement the code for updating the inventory dictionary based on the customer orders.\n",
    "\n",
    "4. Define a function named `calculate_order_statistics` that takes `customer_orders` and `products` as parameters. Inside the function, implement the code for calculating the order statistics (total products ordered, and percentage of unique products ordered). The function should return these values.\n",
    "\n",
    "5. Define a function named `print_order_statistics` that takes `order_statistics` as a parameter. Inside the function, implement the code for printing the order statistics.\n",
    "\n",
    "6. Define a function named `print_updated_inventory` that takes `inventory` as a parameter. Inside the function, implement the code for printing the updated inventory.\n",
    "\n",
    "7. Call the functions in the appropriate sequence to execute the program and manage customer orders.\n",
    "\n",
    "Hints for functions:\n",
    "\n",
    "- Consider the input parameters required for each function and their return values.\n",
    "- Utilize function parameters and return values to transfer data between functions.\n",
    "- Test your functions individually to ensure they work correctly.\n",
    "\n",
    "\n"
   ]
  },
  {
   "cell_type": "code",
   "execution_count": 67,
   "id": "b76eef43",
   "metadata": {},
   "outputs": [],
   "source": [
    "products = [\"t-shirt\", \"mug\", \"hat\", \"book\", \"keychain\"]"
   ]
  },
  {
   "cell_type": "code",
   "execution_count": 68,
   "id": "fed04271",
   "metadata": {},
   "outputs": [
    {
     "name": "stdout",
     "output_type": "stream",
     "text": [
      "Inventory: {'t-shirt': 5, 'mug': 5, 'hat': 5, 'book': 5, 'keychain': 5}\n"
     ]
    }
   ],
   "source": [
    "#1. Define a function named `initialize_inventory` that takes `products` as a parameter. Inside the function, implement the code for \n",
    "# initializing the inventory dictionary using a loop and user input.\n",
    "\n",
    "def initialize_inventory(products):\n",
    "    inventory = {}\n",
    "\n",
    "    for product in products:\n",
    "        order = input(f\"Enter the available quantity for {product}: \")\n",
    "        if order.isdigit():\n",
    "            inventory[product] = int(order)\n",
    "        else:\n",
    "            #print(\"Please enter a valid number.\")\n",
    "            product_quantity = input(f\"Enter the available quantity for {product}: \")\n",
    "            while not product_quantity.isdigit():\n",
    "                #print(\"Please enter a valid number.\")\n",
    "                product_quantity = input(f\"Enter the available quantity for {product}: \")\n",
    "            inventory[product] = int(product_quantity)\n",
    "            \n",
    "    return inventory\n",
    "\n",
    "\n",
    "inventory = initialize_inventory(products)\n",
    "\n",
    "print(\"Inventory:\", inventory)\n"
   ]
  },
  {
   "cell_type": "code",
   "execution_count": 69,
   "id": "6fffb3cc",
   "metadata": {},
   "outputs": [
    {
     "name": "stdout",
     "output_type": "stream",
     "text": [
      "Customer Orders: {'book', 'hat', 'mug'}\n"
     ]
    }
   ],
   "source": [
    "#2. Define a function named `get_customer_orders` that takes no parameters. Inside the function, implement the code for prompting the user \n",
    "# to enter the product names using a loop. The function should return the `customer_orders` set.\n",
    "\n",
    "def get_customer_orders():\n",
    "    customer_orders = set()\n",
    "    add_more = \"yes\"\n",
    "    while add_more == \"yes\":\n",
    "        order = input(\"Enter the name of the product you want to order:\").strip().lower()\n",
    "        if order in inventory:\n",
    "            customer_orders.add(order)\n",
    "        else:\n",
    "            #print(f\"Sorry, we don't have {order} in products.\")\n",
    "            add_more = input(\"Do you want to add more products? (yes/no)\").strip().lower()\n",
    "            if add_more in (\"yes\", \"no\"):\n",
    "                if add_more == \"yes\":\n",
    "                    order2 = input(\"Enter the name of the product you want to order:\").strip().lower()\n",
    "                    if order2 in inventory:\n",
    "                        customer_orders.add(order2)\n",
    "                    else:\n",
    "                        #print(f\"Sorry, we don't have {order2} in stock.\")\n",
    "                        break\n",
    "                else:\n",
    "                    break\n",
    "    return customer_orders\n",
    "\n",
    "customer_orders = get_customer_orders()\n",
    "\n",
    "print(\"Customer Orders:\", customer_orders)\n"
   ]
  },
  {
   "cell_type": "code",
   "execution_count": 70,
   "id": "78f0b36b",
   "metadata": {},
   "outputs": [
    {
     "name": "stdout",
     "output_type": "stream",
     "text": [
      "\n",
      "Updated Inventory: {'t-shirt': 5, 'mug': 4, 'hat': 4, 'book': 4, 'keychain': 5}\n"
     ]
    }
   ],
   "source": [
    "#3. Define a function named `update_inventory` that takes `customer_orders` and `inventory` as parameters. \n",
    "# Inside the function, implement the code for updating the inventory dictionary based on the customer orders.\n",
    "\n",
    "def update_inventory(cust_order, inventory):\n",
    "    for product in cust_order:\n",
    "        if product in inventory:\n",
    "            if inventory[product] > 0:\n",
    "                inventory[product] -= 1\n",
    "            else:\n",
    "                #print(f\"Sorry, {product} is out of stock.\")\n",
    "                break\n",
    "        else:\n",
    "            #print(f\"{product} is not in the inventory.\")\n",
    "            break\n",
    "    return inventory\n",
    "\n",
    "print(\"\\nUpdated Inventory:\", update_inventory(customer_orders, inventory))"
   ]
  },
  {
   "cell_type": "code",
   "execution_count": 57,
   "id": "f3fdd06a",
   "metadata": {},
   "outputs": [],
   "source": [
    "#4. Define a function named `calculate_order_statistics` that takes `customer_orders` and `products` \n",
    "# as parameters. Inside the function, implement the code for calculating the order statistics (total products ordered, and percentage of unique \n",
    "# products ordered). The function should return these values.\n",
    "\n",
    "def calculate_order_statistics(cust_orders, products):\n",
    "    total_ordered = len(cust_orders)\n",
    "    percentage_unique = (total_ordered / len(products)) * 100\n",
    "    products_ordered = list(cust_orders)\n",
    "    return total_ordered, percentage_unique, products_ordered\n"
   ]
  },
  {
   "cell_type": "code",
   "execution_count": 71,
   "id": "dade7a44",
   "metadata": {},
   "outputs": [
    {
     "name": "stdout",
     "output_type": "stream",
     "text": [
      "\n",
      "--- Order Statistics ---\n",
      "Total Products Ordered: 3\n",
      "Percentage of Unique Products Ordered: 60.0 %\n",
      "Products Ordered: ['book', 'hat', 'mug']\n"
     ]
    }
   ],
   "source": [
    "#5. Define a function named `print_order_statistics` that takes `order_statistics` as a parameter. Inside the function, implement the code \n",
    "# for printing the order statistics.\n",
    "\n",
    "def print_order_statistics(order_statistics):\n",
    "    total_ordered, percentage_unique, products_ordered = order_statistics\n",
    "    print(\"\\n--- Order Statistics ---\")\n",
    "    print(\"Total Products Ordered:\", total_ordered)\n",
    "    print(\"Percentage of Unique Products Ordered:\", percentage_unique, \"%\")\n",
    "    print(\"Products Ordered:\", products_ordered)\n",
    "\n",
    "print_order_statistics(calculate_order_statistics(customer_orders, products))"
   ]
  },
  {
   "cell_type": "code",
   "execution_count": 72,
   "id": "dd63aa27",
   "metadata": {},
   "outputs": [
    {
     "name": "stdout",
     "output_type": "stream",
     "text": [
      "\n",
      "--- Updated Inventory ---\n",
      "t-shirt: 5\n",
      "mug: 4\n",
      "hat: 4\n",
      "book: 4\n",
      "keychain: 5\n"
     ]
    }
   ],
   "source": [
    "#6. Define a function named `print_updated_inventory` that takes `inventory` as a parameter. Inside the function, implement the code for \n",
    "# printing the updated inventory.\n",
    "\n",
    "def print_updated_inventory(inventory):\n",
    "    print(\"\\n--- Updated Inventory ---\")\n",
    "    for product, quantity in inventory.items():\n",
    "        print(f\"{product}: {quantity}\")   \n",
    "\n",
    "print_updated_inventory(inventory)"
   ]
  },
  {
   "cell_type": "code",
   "execution_count": 73,
   "id": "792f434b",
   "metadata": {},
   "outputs": [
    {
     "name": "stdout",
     "output_type": "stream",
     "text": [
      "\n",
      "--- Order Statistics ---\n",
      "Total Products Ordered: 5\n",
      "Percentage of Unique Products Ordered: 100.0 %\n",
      "Products Ordered: ['t-shirt', 'book', 'keychain', 'hat', 'mug']\n",
      "\n",
      "--- Updated Inventory ---\n",
      "t-shirt: 4\n",
      "mug: 4\n",
      "hat: 4\n",
      "book: 4\n",
      "keychain: 998\n"
     ]
    }
   ],
   "source": [
    "#7. Call the functions in the appropriate sequence to execute the program and manage customer orders.\n",
    "\n",
    "#Hints for functions:\n",
    "\n",
    "#- Consider the input parameters required for each function and their return values.\n",
    "#- Utilize function parameters and return values to transfer data between functions.\n",
    "#- Test your functions individually to ensure they work correctly.\n",
    "\n",
    "def main():\n",
    "    \n",
    "    products = [\"t-shirt\", \"mug\", \"hat\", \"book\", \"keychain\"]\n",
    "\n",
    "    # Paso 1: inicializar inventario\n",
    "    inventory = initialize_inventory(products)\n",
    "\n",
    "    # Paso 2: obtener pedidos del cliente\n",
    "    customer_orders = get_customer_orders()\n",
    "\n",
    "    # Paso 3: actualizar inventario\n",
    "    update_inventory(customer_orders, inventory)\n",
    "\n",
    "    # Paso 4: calcular estadísticas\n",
    "    order_statistics = calculate_order_statistics(customer_orders, products)\n",
    "\n",
    "    # Paso 5: mostrar resultados\n",
    "    print_order_statistics(order_statistics)\n",
    "    print_updated_inventory(inventory)\n",
    "\n",
    "\n",
    "# Ejecutar el programa\n",
    "main()"
   ]
  },
  {
   "cell_type": "code",
   "execution_count": null,
   "id": "28614607",
   "metadata": {},
   "outputs": [],
   "source": []
  }
 ],
 "metadata": {
  "kernelspec": {
   "display_name": "Python 3",
   "language": "python",
   "name": "python3"
  },
  "language_info": {
   "codemirror_mode": {
    "name": "ipython",
    "version": 3
   },
   "file_extension": ".py",
   "mimetype": "text/x-python",
   "name": "python",
   "nbconvert_exporter": "python",
   "pygments_lexer": "ipython3",
   "version": "3.12.9"
  }
 },
 "nbformat": 4,
 "nbformat_minor": 5
}
